{
  "cells": [
    {
      "cell_type": "markdown",
      "source": [
        "Installing required libraries"
      ],
      "metadata": {
        "id": "x2teaGJUBUbz"
      }
    },
    {
      "cell_type": "code",
      "source": [
        "pip install pyresparser"
      ],
      "metadata": {
        "id": "YOFc9DttHOLy"
      },
      "execution_count": null,
      "outputs": []
    },
    {
      "cell_type": "code",
      "source": [
        "pip install python-docx"
      ],
      "metadata": {
        "id": "ie6JGR7yHU7C"
      },
      "execution_count": null,
      "outputs": []
    },
    {
      "cell_type": "code",
      "source": [
        "pip install ftfy"
      ],
      "metadata": {
        "id": "vTp6sh7GIbNB"
      },
      "execution_count": null,
      "outputs": []
    },
    {
      "cell_type": "code",
      "source": [
        "import nltk\n",
        "nltk.download('stopwords')"
      ],
      "metadata": {
        "id": "SLpSM7HyHdZj"
      },
      "execution_count": null,
      "outputs": []
    },
    {
      "cell_type": "code",
      "execution_count": null,
      "metadata": {
        "id": "tTIf2oclHMt6"
      },
      "outputs": [],
      "source": [
        "from pyresparser import ResumeParser\n",
        "import os\n",
        "from docx import Document"
      ]
    },
    {
      "cell_type": "code",
      "source": [
        "from google.colab import drive\n",
        "drive.mount('/content/drive')\n",
        "#ImgCaption = open('/content/drive/My Drive/image_caption_generator/image_text/token.txt', 'r')"
      ],
      "metadata": {
        "id": "VmNu3aBxBuiZ"
      },
      "execution_count": null,
      "outputs": []
    },
    {
      "cell_type": "markdown",
      "source": [
        "Importing dataset from drive"
      ],
      "metadata": {
        "id": "NB6ZdZtEBTVx"
      }
    },
    {
      "cell_type": "code",
      "execution_count": null,
      "metadata": {
        "id": "kj66dex_HMt_"
      },
      "outputs": [],
      "source": [
        "import numpy as np\n",
        "import pandas as pd\n",
        "import nltk\n",
        "from nltk.corpus import stopwords\n",
        "stopw  = set(stopwords.words('english'))\n",
        "df =pd.read_csv('/content/drive/My Drive/image_caption_generator/resume_dataset.csv')\n",
        "stopw "
      ]
    },
    {
      "cell_type": "code",
      "source": [
        "def cleanResume(resumeText):\n",
        "    resumeText = re.sub('httpS+s*', ' ', resumeText)  # remove URLs\n",
        "    resumeText = re.sub('RT|cc', ' ', resumeText)  # remove RT and cc\n",
        "    resumeText = re.sub('#S+', '', resumeText)  # remove hashtags\n",
        "    resumeText = re.sub('@S+', '  ', resumeText)  # remove mentions\n",
        "    resumeText = re.sub('[%s]' % re.escape(\"\"\"!\"#$%&'()*+,-./:;<=>?@[]^_`{|}~\"\"\"), ' ', resumeText)  # remove punctuations\n",
        "    resumeText = re.sub(r'[^x00-x7f]',r' ', resumeText) \n",
        "    resumeText = re.sub('s+', ' ', resumeText)  # remove extra whitespace\n",
        "    return resumeText\n"
      ],
      "metadata": {
        "id": "plkHc9j3eVRM"
      },
      "execution_count": null,
      "outputs": []
    },
    {
      "cell_type": "code",
      "execution_count": null,
      "metadata": {
        "colab": {
          "base_uri": "https://localhost:8080/"
        },
        "id": "mLhBIQMMHMuB",
        "outputId": "749faa57-ef0e-4c3b-ae44-1f080216a370"
      },
      "outputs": [
        {
          "output_type": "execute_result",
          "data": {
            "text/plain": [
              "0      SkillsSkill    Programming Language   P thon  ...\n",
              "1      EducationEducation Detail    Ma  2013 to Ma  2...\n",
              "2      AreasArea  of Intere t Deep Learning  Control ...\n",
              "3      SkillsSkill      R     P thon     SAP HANA    ...\n",
              "4      EducationEducation Detail     MCA   YMCAUST   ...\n",
              "                             ...                        \n",
              "957    ComputerComputer Skill       Proficient in MS ...\n",
              "958    â    Willingne  to a ept the challenge      ...\n",
              "959    PERSONALPERSONAL SKILLS     Quick learner     ...\n",
              "960    COMPUTERCOMPUTER SKILLS   SOFTWARE KNOWLEDGE M...\n",
              "961    SkillSkill Set OS Window  XP 7 8 8 1 10 Databa...\n",
              "Name: Cleaned, Length: 962, dtype: object"
            ]
          },
          "metadata": {},
          "execution_count": 52
        }
      ],
      "source": [
        "df['Cleaned']=df['Resume'].apply(lambda x:cleanResume(x).join([word for word in str(x).split() if len(word)>2 and word not in (stopw)]))\n",
        "df['Cleaned']"
      ]
    },
    {
      "cell_type": "code",
      "execution_count": null,
      "metadata": {
        "colab": {
          "base_uri": "https://localhost:8080/",
          "height": 589
        },
        "id": "nh7lE1KoHMuD",
        "outputId": "27c64247-19a3-4f50-83da-990a3e6e2d43"
      },
      "outputs": [
        {
          "output_type": "execute_result",
          "data": {
            "text/plain": [
              "         Category                                             Resume  \\\n",
              "0    Data Science  Skills * Programming Languages: Python (pandas...   \n",
              "1    Data Science  Education Details \\r\\nMay 2013 to May 2017 B.E...   \n",
              "2    Data Science  Areas of Interest Deep Learning, Control Syste...   \n",
              "3    Data Science  Skills â¢ R â¢ Python â¢ SAP HANA â¢ Table...   \n",
              "4    Data Science  Education Details \\r\\n MCA   YMCAUST,  Faridab...   \n",
              "..            ...                                                ...   \n",
              "957       Testing  Computer Skills: â¢ Proficient in MS office (...   \n",
              "958       Testing  â Willingness to accept the challenges. â ...   \n",
              "959       Testing  PERSONAL SKILLS â¢ Quick learner, â¢ Eagerne...   \n",
              "960       Testing  COMPUTER SKILLS & SOFTWARE KNOWLEDGE MS-Power ...   \n",
              "961       Testing  Skill Set OS Windows XP/7/8/8.1/10 Database MY...   \n",
              "\n",
              "                                                  test  \\\n",
              "0    SkillsSkill    Programming Language   P thon  ...   \n",
              "1    EducationEducation Detail    Ma  2013 to Ma  2...   \n",
              "2    AreasArea  of Intere t Deep Learning  Control ...   \n",
              "3    SkillsSkill      R     P thon     SAP HANA    ...   \n",
              "4    EducationEducation Detail     MCA   YMCAUST   ...   \n",
              "..                                                 ...   \n",
              "957  ComputerComputer Skill       Proficient in MS ...   \n",
              "958  â    Willingne  to a ept the challenge      ...   \n",
              "959  PERSONALPERSONAL SKILLS     Quick learner     ...   \n",
              "960  COMPUTERCOMPUTER SKILLS   SOFTWARE KNOWLEDGE M...   \n",
              "961  SkillSkill Set OS Window  XP 7 8 8 1 10 Databa...   \n",
              "\n",
              "                                               Cleaned  \n",
              "0    SkillsSkill    Programming Language   P thon  ...  \n",
              "1    EducationEducation Detail    Ma  2013 to Ma  2...  \n",
              "2    AreasArea  of Intere t Deep Learning  Control ...  \n",
              "3    SkillsSkill      R     P thon     SAP HANA    ...  \n",
              "4    EducationEducation Detail     MCA   YMCAUST   ...  \n",
              "..                                                 ...  \n",
              "957  ComputerComputer Skill       Proficient in MS ...  \n",
              "958  â    Willingne  to a ept the challenge      ...  \n",
              "959  PERSONALPERSONAL SKILLS     Quick learner     ...  \n",
              "960  COMPUTERCOMPUTER SKILLS   SOFTWARE KNOWLEDGE M...  \n",
              "961  SkillSkill Set OS Window  XP 7 8 8 1 10 Databa...  \n",
              "\n",
              "[962 rows x 4 columns]"
            ],
            "text/html": [
              "\n",
              "  <div id=\"df-b51a6f8a-761d-47c9-95f1-9bc699094390\">\n",
              "    <div class=\"colab-df-container\">\n",
              "      <div>\n",
              "<style scoped>\n",
              "    .dataframe tbody tr th:only-of-type {\n",
              "        vertical-align: middle;\n",
              "    }\n",
              "\n",
              "    .dataframe tbody tr th {\n",
              "        vertical-align: top;\n",
              "    }\n",
              "\n",
              "    .dataframe thead th {\n",
              "        text-align: right;\n",
              "    }\n",
              "</style>\n",
              "<table border=\"1\" class=\"dataframe\">\n",
              "  <thead>\n",
              "    <tr style=\"text-align: right;\">\n",
              "      <th></th>\n",
              "      <th>Category</th>\n",
              "      <th>Resume</th>\n",
              "      <th>test</th>\n",
              "      <th>Cleaned</th>\n",
              "    </tr>\n",
              "  </thead>\n",
              "  <tbody>\n",
              "    <tr>\n",
              "      <th>0</th>\n",
              "      <td>Data Science</td>\n",
              "      <td>Skills * Programming Languages: Python (pandas...</td>\n",
              "      <td>SkillsSkill    Programming Language   P thon  ...</td>\n",
              "      <td>SkillsSkill    Programming Language   P thon  ...</td>\n",
              "    </tr>\n",
              "    <tr>\n",
              "      <th>1</th>\n",
              "      <td>Data Science</td>\n",
              "      <td>Education Details \\r\\nMay 2013 to May 2017 B.E...</td>\n",
              "      <td>EducationEducation Detail    Ma  2013 to Ma  2...</td>\n",
              "      <td>EducationEducation Detail    Ma  2013 to Ma  2...</td>\n",
              "    </tr>\n",
              "    <tr>\n",
              "      <th>2</th>\n",
              "      <td>Data Science</td>\n",
              "      <td>Areas of Interest Deep Learning, Control Syste...</td>\n",
              "      <td>AreasArea  of Intere t Deep Learning  Control ...</td>\n",
              "      <td>AreasArea  of Intere t Deep Learning  Control ...</td>\n",
              "    </tr>\n",
              "    <tr>\n",
              "      <th>3</th>\n",
              "      <td>Data Science</td>\n",
              "      <td>Skills â¢ R â¢ Python â¢ SAP HANA â¢ Table...</td>\n",
              "      <td>SkillsSkill      R     P thon     SAP HANA    ...</td>\n",
              "      <td>SkillsSkill      R     P thon     SAP HANA    ...</td>\n",
              "    </tr>\n",
              "    <tr>\n",
              "      <th>4</th>\n",
              "      <td>Data Science</td>\n",
              "      <td>Education Details \\r\\n MCA   YMCAUST,  Faridab...</td>\n",
              "      <td>EducationEducation Detail     MCA   YMCAUST   ...</td>\n",
              "      <td>EducationEducation Detail     MCA   YMCAUST   ...</td>\n",
              "    </tr>\n",
              "    <tr>\n",
              "      <th>...</th>\n",
              "      <td>...</td>\n",
              "      <td>...</td>\n",
              "      <td>...</td>\n",
              "      <td>...</td>\n",
              "    </tr>\n",
              "    <tr>\n",
              "      <th>957</th>\n",
              "      <td>Testing</td>\n",
              "      <td>Computer Skills: â¢ Proficient in MS office (...</td>\n",
              "      <td>ComputerComputer Skill       Proficient in MS ...</td>\n",
              "      <td>ComputerComputer Skill       Proficient in MS ...</td>\n",
              "    </tr>\n",
              "    <tr>\n",
              "      <th>958</th>\n",
              "      <td>Testing</td>\n",
              "      <td>â Willingness to accept the challenges. â ...</td>\n",
              "      <td>â    Willingne  to a ept the challenge      ...</td>\n",
              "      <td>â    Willingne  to a ept the challenge      ...</td>\n",
              "    </tr>\n",
              "    <tr>\n",
              "      <th>959</th>\n",
              "      <td>Testing</td>\n",
              "      <td>PERSONAL SKILLS â¢ Quick learner, â¢ Eagerne...</td>\n",
              "      <td>PERSONALPERSONAL SKILLS     Quick learner     ...</td>\n",
              "      <td>PERSONALPERSONAL SKILLS     Quick learner     ...</td>\n",
              "    </tr>\n",
              "    <tr>\n",
              "      <th>960</th>\n",
              "      <td>Testing</td>\n",
              "      <td>COMPUTER SKILLS &amp; SOFTWARE KNOWLEDGE MS-Power ...</td>\n",
              "      <td>COMPUTERCOMPUTER SKILLS   SOFTWARE KNOWLEDGE M...</td>\n",
              "      <td>COMPUTERCOMPUTER SKILLS   SOFTWARE KNOWLEDGE M...</td>\n",
              "    </tr>\n",
              "    <tr>\n",
              "      <th>961</th>\n",
              "      <td>Testing</td>\n",
              "      <td>Skill Set OS Windows XP/7/8/8.1/10 Database MY...</td>\n",
              "      <td>SkillSkill Set OS Window  XP 7 8 8 1 10 Databa...</td>\n",
              "      <td>SkillSkill Set OS Window  XP 7 8 8 1 10 Databa...</td>\n",
              "    </tr>\n",
              "  </tbody>\n",
              "</table>\n",
              "<p>962 rows × 4 columns</p>\n",
              "</div>\n",
              "      <button class=\"colab-df-convert\" onclick=\"convertToInteractive('df-b51a6f8a-761d-47c9-95f1-9bc699094390')\"\n",
              "              title=\"Convert this dataframe to an interactive table.\"\n",
              "              style=\"display:none;\">\n",
              "        \n",
              "  <svg xmlns=\"http://www.w3.org/2000/svg\" height=\"24px\"viewBox=\"0 0 24 24\"\n",
              "       width=\"24px\">\n",
              "    <path d=\"M0 0h24v24H0V0z\" fill=\"none\"/>\n",
              "    <path d=\"M18.56 5.44l.94 2.06.94-2.06 2.06-.94-2.06-.94-.94-2.06-.94 2.06-2.06.94zm-11 1L8.5 8.5l.94-2.06 2.06-.94-2.06-.94L8.5 2.5l-.94 2.06-2.06.94zm10 10l.94 2.06.94-2.06 2.06-.94-2.06-.94-.94-2.06-.94 2.06-2.06.94z\"/><path d=\"M17.41 7.96l-1.37-1.37c-.4-.4-.92-.59-1.43-.59-.52 0-1.04.2-1.43.59L10.3 9.45l-7.72 7.72c-.78.78-.78 2.05 0 2.83L4 21.41c.39.39.9.59 1.41.59.51 0 1.02-.2 1.41-.59l7.78-7.78 2.81-2.81c.8-.78.8-2.07 0-2.86zM5.41 20L4 18.59l7.72-7.72 1.47 1.35L5.41 20z\"/>\n",
              "  </svg>\n",
              "      </button>\n",
              "      \n",
              "  <style>\n",
              "    .colab-df-container {\n",
              "      display:flex;\n",
              "      flex-wrap:wrap;\n",
              "      gap: 12px;\n",
              "    }\n",
              "\n",
              "    .colab-df-convert {\n",
              "      background-color: #E8F0FE;\n",
              "      border: none;\n",
              "      border-radius: 50%;\n",
              "      cursor: pointer;\n",
              "      display: none;\n",
              "      fill: #1967D2;\n",
              "      height: 32px;\n",
              "      padding: 0 0 0 0;\n",
              "      width: 32px;\n",
              "    }\n",
              "\n",
              "    .colab-df-convert:hover {\n",
              "      background-color: #E2EBFA;\n",
              "      box-shadow: 0px 1px 2px rgba(60, 64, 67, 0.3), 0px 1px 3px 1px rgba(60, 64, 67, 0.15);\n",
              "      fill: #174EA6;\n",
              "    }\n",
              "\n",
              "    [theme=dark] .colab-df-convert {\n",
              "      background-color: #3B4455;\n",
              "      fill: #D2E3FC;\n",
              "    }\n",
              "\n",
              "    [theme=dark] .colab-df-convert:hover {\n",
              "      background-color: #434B5C;\n",
              "      box-shadow: 0px 1px 3px 1px rgba(0, 0, 0, 0.15);\n",
              "      filter: drop-shadow(0px 1px 2px rgba(0, 0, 0, 0.3));\n",
              "      fill: #FFFFFF;\n",
              "    }\n",
              "  </style>\n",
              "\n",
              "      <script>\n",
              "        const buttonEl =\n",
              "          document.querySelector('#df-b51a6f8a-761d-47c9-95f1-9bc699094390 button.colab-df-convert');\n",
              "        buttonEl.style.display =\n",
              "          google.colab.kernel.accessAllowed ? 'block' : 'none';\n",
              "\n",
              "        async function convertToInteractive(key) {\n",
              "          const element = document.querySelector('#df-b51a6f8a-761d-47c9-95f1-9bc699094390');\n",
              "          const dataTable =\n",
              "            await google.colab.kernel.invokeFunction('convertToInteractive',\n",
              "                                                     [key], {});\n",
              "          if (!dataTable) return;\n",
              "\n",
              "          const docLinkHtml = 'Like what you see? Visit the ' +\n",
              "            '<a target=\"_blank\" href=https://colab.research.google.com/notebooks/data_table.ipynb>data table notebook</a>'\n",
              "            + ' to learn more about interactive tables.';\n",
              "          element.innerHTML = '';\n",
              "          dataTable['output_type'] = 'display_data';\n",
              "          await google.colab.output.renderOutput(dataTable, element);\n",
              "          const docLink = document.createElement('div');\n",
              "          docLink.innerHTML = docLinkHtml;\n",
              "          element.appendChild(docLink);\n",
              "        }\n",
              "      </script>\n",
              "    </div>\n",
              "  </div>\n",
              "  "
            ]
          },
          "metadata": {},
          "execution_count": 53
        }
      ],
      "source": [
        "df"
      ]
    },
    {
      "cell_type": "code",
      "execution_count": null,
      "metadata": {
        "colab": {
          "base_uri": "https://localhost:8080/"
        },
        "id": "81cMRvr8HMuD",
        "outputId": "7cdae988-4bd5-4dc9-849f-259549446fd5"
      },
      "outputs": [
        {
          "name": "stdout",
          "output_type": "stream",
          "text": [
            "specify the path of the resume (format(.txt, .docx and .pdf))==Varsha.pdf\n"
          ]
        }
      ],
      "source": [
        "##file format should be in .txt , .docx or .pdf only\n",
        "filed=input('specify the path of the resume (format(.txt, .docx and .pdf))==')\n",
        "\n",
        "try:\n",
        "    doc = Document()\n",
        "    with open(filed, 'r') as file:\n",
        "        doc.add_paragraph(file.read())\n",
        "    doc.save(\"text.docx\")\n",
        "    data1 = ResumeParser('text.docx').get_extracted_data()\n",
        "\n",
        "except:\n",
        "    data1 = ResumeParser(filed).get_extracted_data()\n",
        "    \n",
        "resume=data1['skills']"
      ]
    },
    {
      "cell_type": "code",
      "execution_count": null,
      "metadata": {
        "colab": {
          "base_uri": "https://localhost:8080/"
        },
        "id": "Q_vRLwY9HMuE",
        "outputId": "d78ff673-8b52-4c12-d0a9-c10ea49531c0"
      },
      "outputs": [
        {
          "output_type": "stream",
          "name": "stdout",
          "text": [
            "['C', 'Website', 'Sap', 'Programming', 'C++', 'Technical', 'Cloud', 'English', 'Sql', 'Database', 'Ui', 'System', 'Python', 'Aws']\n"
          ]
        }
      ],
      "source": [
        "print(resume)"
      ]
    },
    {
      "cell_type": "code",
      "source": [
        "data1  #showing what the pyreparsar has parsed from the resume"
      ],
      "metadata": {
        "colab": {
          "base_uri": "https://localhost:8080/"
        },
        "id": "zDjjagE1WRQu",
        "outputId": "46241150-cee3-4d33-cc8f-e114b431f3be"
      },
      "execution_count": null,
      "outputs": [
        {
          "output_type": "execute_result",
          "data": {
            "text/plain": [
              "{'college_name': None,\n",
              " 'company_names': None,\n",
              " 'degree': None,\n",
              " 'designation': ['Team Leader', 'Student Coordinator'],\n",
              " 'email': 'varshaolkha777@gmail.com',\n",
              " 'experience': None,\n",
              " 'mobile_number': '8360489853',\n",
              " 'name': 'Varsha Kumari',\n",
              " 'no_of_pages': 1,\n",
              " 'skills': ['Database',\n",
              "  'Python',\n",
              "  'English',\n",
              "  'Technical',\n",
              "  'C++',\n",
              "  'Programming',\n",
              "  'Cloud',\n",
              "  'Ui',\n",
              "  'System',\n",
              "  'Sap',\n",
              "  'Aws',\n",
              "  'Sql',\n",
              "  'Website',\n",
              "  'C'],\n",
              " 'total_experience': 0}"
            ]
          },
          "metadata": {},
          "execution_count": 16
        }
      ]
    },
    {
      "cell_type": "code",
      "execution_count": null,
      "metadata": {
        "id": "G1hUpxnsHMuF"
      },
      "outputs": [],
      "source": [
        "skills=[]\n",
        "skills.append(' '.join(word for word in resume))"
      ]
    },
    {
      "cell_type": "code",
      "execution_count": null,
      "metadata": {
        "colab": {
          "base_uri": "https://localhost:8080/"
        },
        "id": "KQfLccfTHMuG",
        "outputId": "40c53326-5e64-4ad4-ad76-bb701590fa50"
      },
      "outputs": [
        {
          "output_type": "execute_result",
          "data": {
            "text/plain": [
              "['C Website Sap Programming C++ Technical Cloud English Sql Database Ui System Python Aws']"
            ]
          },
          "metadata": {},
          "execution_count": 106
        }
      ],
      "source": [
        "skills"
      ]
    },
    {
      "cell_type": "code",
      "execution_count": null,
      "metadata": {
        "id": "YW7I2uzOHMuH"
      },
      "outputs": [],
      "source": [
        ""
      ]
    },
    {
      "cell_type": "code",
      "execution_count": null,
      "metadata": {
        "id": "nnR9BfvNHMuH"
      },
      "outputs": [],
      "source": [
        "import re\n",
        "\n",
        "from ftfy import fix_text\n",
        "\n",
        "def ngrams(string, n=3):\n",
        "    string = fix_text(string) # fix text\n",
        "    string = string.encode(\"ascii\", errors=\"ignore\").decode() #remove non ascii chars\n",
        "    string = string.lower()\n",
        "    chars_to_remove = [\")\",\"(\",\".\",\"|\",\"[\",\"]\",\"{\",\"}\",\"'\"]\n",
        "    rx = '[' + re.escape(''.join(chars_to_remove)) + ']'\n",
        "    string = re.sub(rx, '', string)\n",
        "    string = string.replace('&', 'and')\n",
        "    string = string.replace(',', ' ')\n",
        "    string = string.replace('-', ' ')\n",
        "    string = string.title() # normalise case - capital at start of each word\n",
        "    string = re.sub(' +',' ',string).strip() # get rid of multiple spaces and replace with a single\n",
        "    string = ' '+ string +' ' # pad names for ngrams...\n",
        "    string = re.sub(r'[,-./]|\\sBD',r'', string)\n",
        "    ngrams = zip(*[string[i:] for i in range(n)])\n",
        "    return [''.join(ngram) for ngram in ngrams]\n"
      ]
    },
    {
      "cell_type": "code",
      "execution_count": null,
      "metadata": {
        "id": "RUbRajdyHMuI"
      },
      "outputs": [],
      "source": [
        "from sklearn.feature_extraction.text import TfidfVectorizer\n",
        "import re"
      ]
    },
    {
      "cell_type": "code",
      "execution_count": null,
      "metadata": {
        "scrolled": true,
        "id": "GZRIuAkkHMuI"
      },
      "outputs": [],
      "source": [
        "vectorizer = TfidfVectorizer(min_df=1, analyzer=ngrams, lowercase=False)\n",
        "tfidf = vectorizer.fit_transform(skills)\n",
        "#print(vectorizer.get_feature_names())\n",
        "print(tfidf)\n",
        "print(skills)"
      ]
    },
    {
      "cell_type": "code",
      "execution_count": null,
      "metadata": {
        "id": "4XMBXHH0HMuL"
      },
      "outputs": [],
      "source": [
        "from sklearn.neighbors import NearestNeighbors\n",
        "nbrs = NearestNeighbors(n_neighbors=1, n_jobs=-1).fit(tfidf)\n",
        "test = (df['test'].values.astype('U'))"
      ]
    },
    {
      "cell_type": "code",
      "execution_count": null,
      "metadata": {
        "id": "gWRZlwQ3HMuL"
      },
      "outputs": [],
      "source": [
        "\n",
        "def getNearestN(query):\n",
        "  queryTFIDF_ = vectorizer.transform(query)\n",
        "  distances, indices = nbrs.kneighbors(queryTFIDF_)\n",
        "  return distances, indices\n"
      ]
    },
    {
      "cell_type": "code",
      "execution_count": null,
      "metadata": {
        "id": "kikiVYYYHMuL"
      },
      "outputs": [],
      "source": [
        "distances, indices = getNearestN(test)\n",
        "test = list(test) \n",
        "matches = []\n"
      ]
    },
    {
      "cell_type": "code",
      "execution_count": null,
      "metadata": {
        "id": "iGtQ9e5lHMuM"
      },
      "outputs": [],
      "source": [
        "for i,j in enumerate(indices):\n",
        "    dist=round(distances[i][0],2)\n",
        "  \n",
        "    temp = [dist]\n",
        "    matches.append(temp)\n",
        "    \n",
        "matches = pd.DataFrame(matches, columns=['Match confidence'])"
      ]
    },
    {
      "cell_type": "code",
      "execution_count": null,
      "metadata": {
        "id": "OPx4pIPLHMuM"
      },
      "outputs": [],
      "source": [
        "df['match']=matches['Match confidence']\n",
        "df1=df.sort_values('match')\n",
        "#df1[['Position', 'Company','Location']].head(10).reset_index()\n",
        "df1[['Category']].head(20).reset_index()"
      ]
    }
  ],
  "metadata": {
    "kernelspec": {
      "display_name": "Python 3",
      "language": "python",
      "name": "python3"
    },
    "language_info": {
      "codemirror_mode": {
        "name": "ipython",
        "version": 3
      },
      "file_extension": ".py",
      "mimetype": "text/x-python",
      "name": "python",
      "nbconvert_exporter": "python",
      "pygments_lexer": "ipython3",
      "version": "3.8.8"
    },
    "colab": {
      "name": "Resume Screening.ipynb",
      "provenance": [],
      "collapsed_sections": []
    }
  },
  "nbformat": 4,
  "nbformat_minor": 0
}